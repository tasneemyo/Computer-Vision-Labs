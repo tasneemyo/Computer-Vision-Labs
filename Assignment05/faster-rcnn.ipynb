{
 "cells": [
  {
   "cell_type": "markdown",
   "id": "a3cb0fcb",
   "metadata": {},
   "source": [
    "dummy to open in colab"
   ]
  }
 ],
 "metadata": {
  "language_info": {
   "name": "python"
  }
 },
 "nbformat": 4,
 "nbformat_minor": 5
}
